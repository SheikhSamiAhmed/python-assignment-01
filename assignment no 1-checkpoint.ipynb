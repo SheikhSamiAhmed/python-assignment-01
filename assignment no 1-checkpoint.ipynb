{
 "cells": [
  {
   "cell_type": "code",
   "execution_count": 1,
   "metadata": {},
   "outputs": [
    {
     "name": "stdout",
     "output_type": "stream",
     "text": [
      "Twinkle, twinkle, little star, \n",
      "    How I wonder what you are! \n",
      "         Up above the world so high, \n",
      "         Like a diamond in the sky. \n",
      " Twinkle, twinkle, little star, \n",
      "    How I wonder what you are \n"
     ]
    }
   ],
   "source": [
    "print(\"Twinkle, twinkle, little star, \\n    How I wonder what you are! \\n         Up above the world so high, \\n         Like a diamond in the sky. \\n Twinkle, twinkle, little star, \\n    How I wonder what you are \")"
   ]
  },
  {
   "cell_type": "code",
   "execution_count": 2,
   "metadata": {},
   "outputs": [
    {
     "name": "stdout",
     "output_type": "stream",
     "text": [
      "I am using version 3.7\n"
     ]
    }
   ],
   "source": [
    "version=(\"I am using version 3.7\")\n",
    "print(version)\n"
   ]
  },
  {
   "cell_type": "code",
   "execution_count": 3,
   "metadata": {},
   "outputs": [
    {
     "name": "stdout",
     "output_type": "stream",
     "text": [
      "2019-11-05 01:32:27.756851\n"
     ]
    }
   ],
   "source": [
    "from datetime import datetime\n",
    "now=datetime.now()\n",
    "print(now)\n"
   ]
  },
  {
   "cell_type": "code",
   "execution_count": 4,
   "metadata": {},
   "outputs": [
    {
     "name": "stdout",
     "output_type": "stream",
     "text": [
      "enter a radius5\n",
      "78.55\n"
     ]
    }
   ],
   "source": [
    "radius=input(\"enter a radius\")\n",
    "r=int(radius)\n",
    "pi=3.142\n",
    "area=pi*(r**2)\n",
    "print(area)\n"
   ]
  },
  {
   "cell_type": "code",
   "execution_count": 6,
   "metadata": {},
   "outputs": [
    {
     "name": "stdout",
     "output_type": "stream",
     "text": [
      "Enter your first namesheikh sami\n",
      "Enter your last nameahmed\n",
      "ahmed sheikh sami\n"
     ]
    }
   ],
   "source": [
    "first=input(\"Enter your first name\")\n",
    "last=input(\"Enter your last name\")\n",
    "fullname=last + \" \" + first\n",
    "print(fullname)"
   ]
  },
  {
   "cell_type": "code",
   "execution_count": 8,
   "metadata": {},
   "outputs": [
    {
     "name": "stdout",
     "output_type": "stream",
     "text": [
      "Enter your first value38\n",
      "Enter your last value10\n",
      "48\n"
     ]
    }
   ],
   "source": [
    "\n",
    "a=int(input(\"Enter your first value\"))\n",
    "b=int(input(\"Enter your last value\"))\n",
    "c=(a+b)\n",
    "print(c)\n"
   ]
  },
  {
   "cell_type": "code",
   "execution_count": null,
   "metadata": {},
   "outputs": [],
   "source": []
  }
 ],
 "metadata": {
  "kernelspec": {
   "display_name": "Python 3",
   "language": "python",
   "name": "python3"
  },
  "language_info": {
   "codemirror_mode": {
    "name": "ipython",
    "version": 3
   },
   "file_extension": ".py",
   "mimetype": "text/x-python",
   "name": "python",
   "nbconvert_exporter": "python",
   "pygments_lexer": "ipython3",
   "version": "3.7.4"
  }
 },
 "nbformat": 4,
 "nbformat_minor": 2
}
